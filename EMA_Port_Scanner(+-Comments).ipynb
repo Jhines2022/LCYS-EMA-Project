{
  "nbformat": 4,
  "nbformat_minor": 0,
  "metadata": {
    "colab": {
      "name": "port scanner.ipynb",
      "provenance": [],
      "collapsed_sections": []
    },
    "kernelspec": {
      "name": "python3",
      "display_name": "Python 3"
    },
    "language_info": {
      "name": "python"
    }
  },
  "cells": [
    {
      "cell_type": "markdown",
      "source": [
        "Internal Port Scanner for Queens medical center ASMIS network - set of code with #comments.\n",
        "This scanner points at scanme.nmap.org for testing purposes only due to permissions granted by scanme.nmap.org. The actual host (IP Address) MUST be changed to the desired (Permissioned) host prior to usage of this scanner outside of this project assignment. "
      ],
      "metadata": {
        "id": "S87wno63UZUy"
      }
    },
    {
      "cell_type": "code",
      "source": [
        "#MODULES sys, socket, datetime, result. \n",
        "import sys #allows operating on the interpreter as it provides access to the variables and functions\n",
        "import socket #Provides access to the BSD socket interface\n",
        "from datetime import datetime #The datetime module supplies classes for manipulating dates and times\n",
        "from unittest import result # provides a rich set of tools for constructing and running tests\n",
        "\n",
        "if len(sys.argv) != 2: #If not equal to 2, display the following messages below\n",
        "    print(\"Invalid amount of arguments due to scanning internally\")\n",
        "    print(\"Syntax: Testing Internal ASMIS Port Scanner\")\n",
        "\n",
        "#Define the desired target which would be directed at Queens medical centre ASMIS network. \n",
        "else:  #The amount of arguments I would like for the scan. \n",
        "    target = socket.gethostbyname('45.33.32.156', sys.argv[1]) #host is a string representing either a hostname in internet domain notation or an IPv4 address\n",
        "\n",
        "#Adds a banner (Area) containing information on who is being scanned, the date and the time of the scan.\n",
        "print(\"-\" * 30) #will create 30 dashes as a upper border\n",
        "print(\"-\" * 70) #will create 70 dashes as a upper border\n",
        "print(\"-\" * 100) #will create 100 dashes as a upper border\n",
        "print(\"Scanning scanme.nmap.org for testing reasons due to permissions. \") #will display the print text/message. I have inserted scanme.nmap.org but can be changed to required IP address/url or name.\n",
        "print(\"-\" * 70) #will create 70 dashes as a separation border to cleary separate the two lines of text for reading purposes.\n",
        "print(\"Time started \" + str(datetime.now())) #this displays the date and time that the scan started took place.\n",
        "print(\"-\" * 100) #will create 100 dashes as a lower border\n",
        "print(\"-\" * 70) #will create 70 dashes as a lower border\n",
        "print(\"-\" * 30) #will create 30 dashes as a lower border\n",
        "\n",
        "t1 = datetime.now() #check the time that the scan began using t1 as the variable and datetime.now object as the value\n",
        "\n",
        "\n",
        "try: #It will TRY the following loop for each port until all the ports in the \"for port in range\" has been scanned\n",
        "    for port in range(1,100): #will scan ports from 1 to 100 and then end (The larger the port scan, the longer it will take)\n",
        "                s = socket.socket(socket.AF_INET, socket.SOCK_STREAM) #AF_INET is IPv4 and SOCK_STREAM is Rhost\n",
        "                socket.setdefaulttimeout(0.2) #it will connect to a port. if unconnectable, it will wait for one fifth of a second (due to UDP) before moving on because if they cannot be completed within the timeout specified for the socket, then the operation will fail. \n",
        "                result = s.connect_ex(('45.33.32.156', port)) #returns an error indicator. s.connect is also a method that actively initiates TCP server connection\n",
        "                if result ==0: #taken from the result import module of unit test.\n",
        "                        print(\"Port {} is OPEN! Check if this needs changing\".format(port)) #displays the message only if the port is open when the result ==0\n",
        "\n",
        "\n",
        " #constructing ways to exit the program logically\n",
        "except KeyboardInterrupt: #hit ctrl+D or exit to exit the program\n",
        "        print(\"\\n Exiting program.\")\n",
        "        sys.exit() #hit ctrl+D or exit to exit the program\n",
        "\n",
        "except socket.gaierror: #if no hostname, then exit the program\n",
        "        print(\"Hostname could not be resolved, scan will now exit.\") \n",
        "        sys.exit()\n",
        "\n",
        "except socket.error: #if it can not connect to the ip address that we specify, then we want to exit.\n",
        "        print(\"Could not connect to the specified IP address\")\n",
        "        sys.exit() \n",
        "\n",
        "#Check the datetime again for comparison by assigning t2 to datetime.now\n",
        "t2 = datetime.now()\n",
        "\n",
        "#Will compare t1 and t2 to tell us how the the scan took\n",
        "total = t2 - t1\n",
        "print(\"-\" * 70) #will create 70 dashes as a separation border to clearly separate the time to complete from the port scan results.\n",
        "\n",
        "#Will display how long the chosen scan took.\n",
        "print (\"Time to complete =  \", total)"
      ],
      "metadata": {
        "id": "N9s1c5qoTkeH"
      },
      "execution_count": null,
      "outputs": []
    },
    {
      "cell_type": "markdown",
      "source": [
        "Below is the same code as above for the internal port scanner but without comments"
      ],
      "metadata": {
        "id": "ZMCVWc4VWCNg"
      }
    },
    {
      "cell_type": "code",
      "source": [
        "\n",
        "import sys \n",
        "import socket \n",
        "from datetime import datetime \n",
        "from unittest import result \n",
        "\n",
        "if len(sys.argv) != 2: \n",
        "    print(\"Invalid amount of arguments due to scanning internally\")\n",
        "    print(\"Syntax: Testing Internal ASMIS Port Scanner\")\n",
        "\n",
        "else:   \n",
        "    target = socket.gethostbyname('45.33.32.156', sys.argv[1]) \n",
        "\n",
        "print(\"-\" * 30) \n",
        "print(\"-\" * 70) \n",
        "print(\"-\" * 100) \n",
        "print(\"Scanning scanme.nmap.org for testing reasons due to permissions. \") \n",
        "print(\"-\" * 70) \n",
        "print(\"Time started \" + str(datetime.now())) \n",
        "print(\"-\" * 100) \n",
        "print(\"-\" * 70) \n",
        "print(\"-\" * 30) \n",
        "\n",
        "t1 = datetime.now() \n",
        "\n",
        "try: \n",
        "    for port in range(1,100): \n",
        "                s = socket.socket(socket.AF_INET, socket.SOCK_STREAM) \n",
        "                socket.setdefaulttimeout(0.2) \n",
        "                result = s.connect_ex(('45.33.32.156', port)) \n",
        "                if result ==0: \n",
        "                        print(\"Port {} is OPEN! Check if this needs changing\".format(port)) \n",
        "\n",
        "except KeyboardInterrupt: \n",
        "        print(\"\\n Exiting program.\")\n",
        "        sys.exit() \n",
        "\n",
        "except socket.gaierror: \n",
        "        print(\"Hostname could not be resolved, scan will now exit.\") \n",
        "        sys.exit()\n",
        "\n",
        "except socket.error: \n",
        "        print(\"Could not connect to the specified IP address\")\n",
        "        sys.exit() \n",
        "\n",
        "t2 = datetime.now()\n",
        "total = t2 - t1\n",
        "print(\"-\" * 70) \n",
        "print (\"Time to complete =  \", total)\n"
      ],
      "metadata": {
        "id": "JMX_oQK30jWj"
      },
      "execution_count": null,
      "outputs": []
    }
  ]
}